{
 "cells": [
  {
   "cell_type": "code",
   "execution_count": 48,
   "id": "cebb462f",
   "metadata": {},
   "outputs": [],
   "source": [
    "#!/usr/bin/env python\n",
    "import json, re, sys, os, json, subprocess, time, logging, requests, urllib3, intersight\n",
    "from subprocess import call, check_output\n",
    "from requests.structures import CaseInsensitiveDict\n",
    "urllib3.disable_warnings()\n",
    "import requests\n",
    "from intersight import *\n",
    "\n",
    "#The AppD secret is passed in via Env Var which is injected into the build container via the pipeline\n",
    "#import the env vars and logon to vault to get the secret and then use it to run this command and write the output to the vault\n",
    "api_key_id = os.getenv('keyid')\n",
    "rsa = os.getenv('rsa')\n",
    "api_secret_file='rsa.key'\n",
    "url = \"https://intersight.com/api/v1\"\n",
    "\n",
    "\n",
    "def get_api_client(api_key_id, api_secret_file, endpoint=url):\n",
    "    with open(api_secret_file, 'r') as f:\n",
    "        api_key = f.read()\n",
    "\n",
    "    if re.search('BEGIN RSA PRIVATE KEY', api_key):\n",
    "        # API Key v2 format\n",
    "        signing_algorithm = intersight.signing.ALGORITHM_RSASSA_PKCS1v15\n",
    "        signing_scheme = intersight.signing.SCHEME_RSA_SHA256\n",
    "        hash_algorithm = intersight.signing.HASH_SHA256\n",
    "\n",
    "    elif re.search('BEGIN EC PRIVATE KEY', api_key):\n",
    "        # API Key v3 format\n",
    "        signing_algorithm = intersight.signing.ALGORITHM_ECDSA_MODE_DETERMINISTIC_RFC6979\n",
    "        signing_scheme = intersight.signing.SCHEME_HS2019\n",
    "        hash_algorithm = intersight.signing.HASH_SHA256\n",
    "\n",
    "    configuration = intersight.Configuration(\n",
    "        host=endpoint,\n",
    "        signing_info=intersight.signing.HttpSigningConfiguration(\n",
    "            key_id=api_key_id,\n",
    "            private_key_path=api_secret_file,\n",
    "            signing_scheme=signing_scheme,\n",
    "            signing_algorithm=signing_algorithm,\n",
    "            hash_algorithm=hash_algorithm,\n",
    "            signed_headers=[\n",
    "                intersight.signing.HEADER_REQUEST_TARGET,\n",
    "                intersight.signing.HEADER_HOST,\n",
    "                intersight.signing.HEADER_DATE,\n",
    "                intersight.signing.HEADER_DIGEST,\n",
    "            ]\n",
    "        )\n",
    "    )\n",
    "\n",
    "    # if you want to turn off certificate verification\n",
    "    # configuration.verify_ssl = False\n",
    "    configuration.verify_ssl = False\n",
    "    return intersight.ApiClient(configuration)\n",
    "    \n",
    "\n",
    "    \n",
    "\n",
    "\n",
    "\n",
    "   "
   ]
  },
  {
   "cell_type": "code",
   "execution_count": 49,
   "id": "c31d1ce0",
   "metadata": {},
   "outputs": [
    {
     "ename": "FileNotFoundError",
     "evalue": "[Errno 2] No such file or directory: 'rsa.key'",
     "output_type": "error",
     "traceback": [
      "\u001b[0;31m---------------------------------------------------------------------------\u001b[0m",
      "\u001b[0;31mFileNotFoundError\u001b[0m                         Traceback (most recent call last)",
      "Input \u001b[0;32mIn [49]\u001b[0m, in \u001b[0;36m<module>\u001b[0;34m\u001b[0m\n\u001b[1;32m      1\u001b[0m \u001b[38;5;28;01mfrom\u001b[39;00m \u001b[38;5;21;01mintersight\u001b[39;00m\u001b[38;5;21;01m.\u001b[39;00m\u001b[38;5;21;01mapi\u001b[39;00m \u001b[38;5;28;01mimport\u001b[39;00m boot_api\n\u001b[1;32m      2\u001b[0m \u001b[38;5;28;01mfrom\u001b[39;00m \u001b[38;5;21;01mintersight\u001b[39;00m\u001b[38;5;21;01m.\u001b[39;00m\u001b[38;5;21;01mmodel\u001b[39;00m\u001b[38;5;21;01m.\u001b[39;00m\u001b[38;5;21;01mboot_precision_policy\u001b[39;00m \u001b[38;5;28;01mimport\u001b[39;00m BootPrecisionPolicy\n\u001b[0;32m----> 5\u001b[0m api_client \u001b[38;5;241m=\u001b[39m \u001b[43mget_api_client\u001b[49m\u001b[43m(\u001b[49m\u001b[43mapi_key_id\u001b[49m\u001b[43m,\u001b[49m\u001b[43m \u001b[49m\u001b[43mapi_secret_file\u001b[49m\u001b[43m)\u001b[49m\n\u001b[1;32m      7\u001b[0m \u001b[38;5;66;03m# Create an api instance of the correct API type\u001b[39;00m\n\u001b[1;32m      8\u001b[0m api_instance \u001b[38;5;241m=\u001b[39m boot_api\u001b[38;5;241m.\u001b[39mBootApi(api_client)\n",
      "Input \u001b[0;32mIn [48]\u001b[0m, in \u001b[0;36mget_api_client\u001b[0;34m(api_key_id, api_secret_file, endpoint)\u001b[0m\n\u001b[1;32m     17\u001b[0m \u001b[38;5;28;01mdef\u001b[39;00m \u001b[38;5;21mget_api_client\u001b[39m(api_key_id, api_secret_file, endpoint\u001b[38;5;241m=\u001b[39murl):\n\u001b[0;32m---> 18\u001b[0m     \u001b[38;5;28;01mwith\u001b[39;00m \u001b[38;5;28;43mopen\u001b[39;49m\u001b[43m(\u001b[49m\u001b[43mapi_secret_file\u001b[49m\u001b[43m,\u001b[49m\u001b[43m \u001b[49m\u001b[38;5;124;43m'\u001b[39;49m\u001b[38;5;124;43mr\u001b[39;49m\u001b[38;5;124;43m'\u001b[39;49m\u001b[43m)\u001b[49m \u001b[38;5;28;01mas\u001b[39;00m f:\n\u001b[1;32m     19\u001b[0m         api_key \u001b[38;5;241m=\u001b[39m f\u001b[38;5;241m.\u001b[39mread()\n\u001b[1;32m     21\u001b[0m     \u001b[38;5;28;01mif\u001b[39;00m re\u001b[38;5;241m.\u001b[39msearch(\u001b[38;5;124m'\u001b[39m\u001b[38;5;124mBEGIN RSA PRIVATE KEY\u001b[39m\u001b[38;5;124m'\u001b[39m, api_key):\n\u001b[1;32m     22\u001b[0m         \u001b[38;5;66;03m# API Key v2 format\u001b[39;00m\n",
      "\u001b[0;31mFileNotFoundError\u001b[0m: [Errno 2] No such file or directory: 'rsa.key'"
     ]
    }
   ],
   "source": [
    "from intersight.api import boot_api\n",
    "from intersight.model.boot_precision_policy import BootPrecisionPolicy\n",
    "\n",
    "\n",
    "api_client = get_api_client(api_key_id, api_secret_file)\n",
    "\n",
    "# Create an api instance of the correct API type\n",
    "api_instance = boot_api.BootApi(api_client)\n",
    "\n",
    "# Create an object locally and populate the object properties\n",
    "boot_precision_policy = BootPrecisionPolicy()\n",
    "\n",
    "\n",
    "# Create an object in Intersight\n",
    "api_response = api_instance.create_boot_precision_policy(boot_precision_policy)    "
   ]
  },
  {
   "cell_type": "code",
   "execution_count": null,
   "id": "0987c664",
   "metadata": {},
   "outputs": [],
   "source": []
  },
  {
   "cell_type": "code",
   "execution_count": null,
   "id": "8b90a59d",
   "metadata": {},
   "outputs": [],
   "source": []
  }
 ],
 "metadata": {
  "kernelspec": {
   "display_name": "Python 3 (ipykernel)",
   "language": "python",
   "name": "python3"
  },
  "language_info": {
   "codemirror_mode": {
    "name": "ipython",
    "version": 3
   },
   "file_extension": ".py",
   "mimetype": "text/x-python",
   "name": "python",
   "nbconvert_exporter": "python",
   "pygments_lexer": "ipython3",
   "version": "3.10.0"
  }
 },
 "nbformat": 4,
 "nbformat_minor": 5
}
