{
 "cells": [
  {
   "cell_type": "code",
   "execution_count": 111,
   "id": "c50104a1",
   "metadata": {},
   "outputs": [
    {
     "name": "stdout",
     "output_type": "stream",
     "text": [
      "<class 'str'>\n"
     ]
    }
   ],
   "source": [
    "#!/usr/bin/env python\n",
    "import json, re, sys, os, json, time, logging, requests, urllib3\n",
    "from requests.structures import CaseInsensitiveDict\n",
    "urllib3.disable_warnings()\n",
    "from requests.structures import CaseInsensitiveDict\n",
    "import subprocess\n",
    "from subprocess import call, check_output\n",
    "\n",
    "VAULT_ADDR = os.getenv('VAULT_ADDRR')\n",
    "VAULT_TOKEN = os.getenv('VAULT_TOKEN') #This gets the vault token from the ephemeral build container\n",
    "\n",
    "lab_vars='lab_vars.py'\n",
    "import lab_vars\n",
    "from lab_vars import *\n",
    "\n",
    "#get all the vars and then import this module to a delete_env script that uses the aws-cli commands and polls for inst state when termed\n",
    "\n",
    "VAULT_ADDR = os.getenv('VAULT_ADDRR')\n",
    "VAULT_TOKEN = os.getenv('VAULT_TOKEN')\n",
    "\n",
    "name='us-east-2b'\n",
    "cmd_describe_instances='aws ec2 describe-instances --region' + \" \" + region + \" \" + '--filters Name=instance-state-code,Values=16 Name=availability-zone,Values=' + name\n",
    "output = check_output(\"{}\".format(cmd_describe_instances), shell=True).decode().strip()\n",
    "y=json.loads(output)\n",
    "\n",
    "\n",
    "\n"
   ]
  },
  {
   "cell_type": "code",
   "execution_count": 118,
   "id": "c85fa087",
   "metadata": {},
   "outputs": [
    {
     "ename": "NameError",
     "evalue": "name 'res' is not defined",
     "output_type": "error",
     "traceback": [
      "\u001b[0;31m---------------------------------------------------------------------------\u001b[0m",
      "\u001b[0;31mNameError\u001b[0m                                 Traceback (most recent call last)",
      "Input \u001b[0;32mIn [118]\u001b[0m, in \u001b[0;36m<module>\u001b[0;34m\u001b[0m\n\u001b[0;32m----> 1\u001b[0m \u001b[38;5;28mprint\u001b[39m(\u001b[38;5;28mtype\u001b[39m(\u001b[43mres\u001b[49m))\n",
      "\u001b[0;31mNameError\u001b[0m: name 'res' is not defined"
     ]
    }
   ],
   "source": [
    "print(type(res))"
   ]
  },
  {
   "cell_type": "code",
   "execution_count": null,
   "id": "355819d6",
   "metadata": {},
   "outputs": [],
   "source": []
  },
  {
   "cell_type": "code",
   "execution_count": null,
   "id": "1bbf287e",
   "metadata": {},
   "outputs": [],
   "source": []
  },
  {
   "cell_type": "code",
   "execution_count": null,
   "id": "31174188",
   "metadata": {},
   "outputs": [],
   "source": []
  },
  {
   "cell_type": "code",
   "execution_count": null,
   "id": "1f58824b",
   "metadata": {},
   "outputs": [],
   "source": []
  }
 ],
 "metadata": {
  "kernelspec": {
   "display_name": "Python 3 (ipykernel)",
   "language": "python",
   "name": "python3"
  },
  "language_info": {
   "codemirror_mode": {
    "name": "ipython",
    "version": 3
   },
   "file_extension": ".py",
   "mimetype": "text/x-python",
   "name": "python",
   "nbconvert_exporter": "python",
   "pygments_lexer": "ipython3",
   "version": "3.10.0"
  }
 },
 "nbformat": 4,
 "nbformat_minor": 5
}
