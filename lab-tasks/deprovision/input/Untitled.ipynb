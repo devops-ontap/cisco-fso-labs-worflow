{
 "cells": [
  {
   "cell_type": "code",
   "execution_count": 168,
   "id": "8bb6267e",
   "metadata": {},
   "outputs": [
    {
     "name": "stdout",
     "output_type": "stream",
     "text": [
      "aws ec2 describe-instances --region us-east-2 --query \"Reservations[*].Instances[*].{Instance:InstanceId,AZ:Placement.AvailabilityZone,Name:Tags[?Key=='us-east-2b']|[0].Value}\" --filters Name=instance-state-code,Values=16  Name=availability-zone,Values=us-east-2b --output json\n",
      "[\n",
      "    [\n",
      "        {\n",
      "            \"Instance\": \"i-0438b73a5a1cdd87d\",\n",
      "            \"AZ\": \"us-east-2b\",\n",
      "            \"Name\": null\n",
      "        }\n",
      "    ],\n",
      "    [\n",
      "        {\n",
      "            \"Instance\": \"i-0edf517a97ec20eb9\",\n",
      "            \"AZ\": \"us-east-2b\",\n",
      "            \"Name\": null\n",
      "        }\n",
      "    ]\n",
      "]\n"
     ]
    }
   ],
   "source": [
    "#!/usr/bin/env python\n",
    "import json, re, sys, os, json, time, logging, requests, urllib3\n",
    "from requests.structures import CaseInsensitiveDict\n",
    "urllib3.disable_warnings()\n",
    "from requests.structures import CaseInsensitiveDict\n",
    "import subprocess\n",
    "from subprocess import call, check_output\n",
    "\n",
    "VAULT_ADDR = os.getenv('VAULT_ADDRR')\n",
    "VAULT_TOKEN = os.getenv('VAULT_TOKEN') #This gets the vault token from the ephemeral build container\n",
    "\n",
    "lab_vars='lab_vars.py'\n",
    "import lab_vars\n",
    "from lab_vars import *\n",
    "\n",
    "#get all the vars and then import this module to a delete_env script that uses the aws-cli commands and polls for inst state when termed\n",
    "\n",
    "VAULT_ADDR = os.getenv('VAULT_ADDRR')\n",
    "VAULT_TOKEN = os.getenv('VAULT_TOKEN')\n",
    "\n",
    "#Get List of all EC2 instances in a AZ\n",
    "#aws ec2 describe-instances --query \"Reservations[*].Instances[*].{Instance:InstanceId,AZ:Placement.AvailabilityZone,Name:Tags[?Key=='us-east-2c']|[0].Value}\" --output json\n",
    "#cmd_describe_instances='aws ec2 describe-instances --query \"Reservations[*].Instances[*].{Instance:InstanceId,AZ:Placement.AvailabilityZone,Name:Tags[?Key==' + \"'\" \"{}\".format(name) + \"'\" + ']|[0].Value}\"' + \" \" + '--output json'\n",
    "cmd_describe_instances='aws ec2 describe-instances --region us-east-2 --query \"Reservations[*].Instances[*].{Instance:InstanceId,AZ:Placement.AvailabilityZone,Name:Tags[?Key==' + \"'\" \"{}\".format(name) + \"'\" + ']|[0].Value}\"' + \" \" + '--filters Name=instance-state-code,Values=16 ' + \" \" + 'Name=availability-zone,Values=' + name + \" \" + '--output json'\n",
    "#cmd_describe_instances='aws ec2 describe-instances --region' + \" \" + region + \" \" + '--filters Name=instance-state-code,Values=16 Name=availability-zone,Values=' + name\n",
    "print(cmd_describe_instances)\n",
    "output = check_output(\"{}\".format(cmd_describe_instances), shell=True).decode().strip()\n",
    "print(output)"
   ]
  },
  {
   "cell_type": "code",
   "execution_count": 141,
   "id": "b54708d4",
   "metadata": {},
   "outputs": [
    {
     "name": "stdout",
     "output_type": "stream",
     "text": [
      "<class 'str'>\n"
     ]
    }
   ],
   "source": [
    "print(type(output))"
   ]
  },
  {
   "cell_type": "code",
   "execution_count": 169,
   "id": "75b4f16a",
   "metadata": {},
   "outputs": [
    {
     "name": "stdout",
     "output_type": "stream",
     "text": [
      "[[{'Instance': 'i-0438b73a5a1cdd87d', 'AZ': 'us-east-2b', 'Name': None}], [{'Instance': 'i-0edf517a97ec20eb9', 'AZ': 'us-east-2b', 'Name': None}]]\n",
      "<class 'list'>\n"
     ]
    }
   ],
   "source": [
    "y=json.loads(output)\n",
    "print(y)\n",
    "print(type(y))"
   ]
  },
  {
   "cell_type": "code",
   "execution_count": 170,
   "id": "f63ac65d",
   "metadata": {},
   "outputs": [
    {
     "name": "stdout",
     "output_type": "stream",
     "text": [
      "['i-0438b73a5a1cdd87d', 'i-0edf517a97ec20eb9']\n",
      "<class 'list'>\n"
     ]
    }
   ],
   "source": [
    "#Here we have a list of lists that contain dictionaries - next flatten list\n",
    "flatList = [ item for elem in list_of_lists for item in elem]\n",
    "res = [ sub['Instance'] for sub in flatList ]\n",
    "print(res)\n",
    "print(type(res))\n",
    "file='instances.json'\n",
    "with open(file, 'w') as my_file:\n",
    "    my_file.write(output)"
   ]
  },
  {
   "cell_type": "code",
   "execution_count": 167,
   "id": "df2dbc8d",
   "metadata": {},
   "outputs": [],
   "source": [
    "#For AWS CLI to accept this list of instances, it must be in format: \n",
    "import pandas as pd\n",
    "df = pd.read_json (r'instances.json')\n",
    "df.to_csv (r'instances.txt', index = False)"
   ]
  },
  {
   "cell_type": "code",
   "execution_count": null,
   "id": "e2b85cd9",
   "metadata": {},
   "outputs": [],
   "source": []
  },
  {
   "cell_type": "code",
   "execution_count": null,
   "id": "6c560c7f",
   "metadata": {},
   "outputs": [],
   "source": []
  }
 ],
 "metadata": {
  "kernelspec": {
   "display_name": "Python 3 (ipykernel)",
   "language": "python",
   "name": "python3"
  },
  "language_info": {
   "codemirror_mode": {
    "name": "ipython",
    "version": 3
   },
   "file_extension": ".py",
   "mimetype": "text/x-python",
   "name": "python",
   "nbconvert_exporter": "python",
   "pygments_lexer": "ipython3",
   "version": "3.10.0"
  }
 },
 "nbformat": 4,
 "nbformat_minor": 5
}
