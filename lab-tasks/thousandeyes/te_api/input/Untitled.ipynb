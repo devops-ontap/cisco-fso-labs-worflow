{
 "cells": [
  {
   "cell_type": "code",
   "execution_count": 5,
   "id": "6a2b2b37",
   "metadata": {},
   "outputs": [
    {
     "name": "stdout",
     "output_type": "stream",
     "text": [
      "1d0acd78-a470-44ad-a6d6-0892ac2db441\n",
      "{'test': [{'createdDate': '2022-03-17 01:28:40', 'modifiedDate': '2022-03-18 19:47:58', 'createdBy': 'fsolab4@gmail.com (fsolab4@gmail.com)', 'modifiedBy': 'Sherri Conrod (sconrod@cisco.com)', 'enabled': 0, 'savedEvent': 0, 'testId': 2637465, 'testName': 'agent to server-24', 'interval': 300, 'subinterval': -1, 'server': 'www.thousandeyes.com:80', 'protocol': 'TCP', 'ipv6Policy': 'USE_AGENT_POLICY', 'networkMeasurements': 1, 'mtuMeasurements': 1, 'bandwidthMeasurements': 0, 'bgpMeasurements': 0, 'usePublicBgp': 0, 'dscpId': 0, 'alertsEnabled': 0, 'liveShare': 0, 'pingPayloadSize': -1, 'probeMode': 'AUTO', 'pathTraceMode': 'classic', 'numPathTraces': 3, 'dscp': 'Best Effort (DSCP 0)', 'apiLinks': [{'rel': 'self', 'href': 'https://api.thousandeyes.com/v6/tests/2637465'}, {'rel': 'data', 'href': 'https://api.thousandeyes.com/v6/net/metrics/2637465'}, {'rel': 'data', 'href': 'https://api.thousandeyes.com/v6/net/path-vis/2637465'}]}, {'createdDate': '2022-03-17 01:36:05', 'modifiedDate': '2022-03-18 19:47:58', 'createdBy': 'fsolab4@gmail.com (fsolab4@gmail.com)', 'modifiedBy': 'Sherri Conrod (sconrod@cisco.com)', 'enabled': 0, 'savedEvent': 0, 'testId': 2637475, 'testName': 'agent to server-25', 'interval': 300, 'subinterval': -1, 'server': 'www.thousandeyes.com:80', 'protocol': 'TCP', 'ipv6Policy': 'USE_AGENT_POLICY', 'networkMeasurements': 1, 'mtuMeasurements': 1, 'bandwidthMeasurements': 0, 'bgpMeasurements': 0, 'usePublicBgp': 0, 'dscpId': 0, 'alertsEnabled': 0, 'liveShare': 0, 'pingPayloadSize': -1, 'probeMode': 'AUTO', 'pathTraceMode': 'classic', 'numPathTraces': 3, 'dscp': 'Best Effort (DSCP 0)', 'apiLinks': [{'rel': 'self', 'href': 'https://api.thousandeyes.com/v6/tests/2637475'}, {'rel': 'data', 'href': 'https://api.thousandeyes.com/v6/net/metrics/2637475'}, {'rel': 'data', 'href': 'https://api.thousandeyes.com/v6/net/path-vis/2637475'}]}, {'createdDate': '2022-03-17 22:18:43', 'modifiedDate': '2022-03-18 19:47:58', 'createdBy': 'fsolab4@gmail.com (fsolab4@gmail.com)', 'modifiedBy': 'Sherri Conrod (sconrod@cisco.com)', 'enabled': 0, 'savedEvent': 0, 'testId': 2639318, 'testName': 'agent to server-27', 'interval': 300, 'subinterval': -1, 'server': 'www.thousandeyes.com:80', 'protocol': 'TCP', 'ipv6Policy': 'USE_AGENT_POLICY', 'networkMeasurements': 1, 'mtuMeasurements': 1, 'bandwidthMeasurements': 0, 'bgpMeasurements': 0, 'usePublicBgp': 0, 'dscpId': 0, 'alertsEnabled': 0, 'liveShare': 0, 'pingPayloadSize': -1, 'probeMode': 'AUTO', 'pathTraceMode': 'classic', 'numPathTraces': 3, 'dscp': 'Best Effort (DSCP 0)', 'apiLinks': [{'rel': 'self', 'href': 'https://api.thousandeyes.com/v6/tests/2639318'}, {'rel': 'data', 'href': 'https://api.thousandeyes.com/v6/net/metrics/2639318'}, {'rel': 'data', 'href': 'https://api.thousandeyes.com/v6/net/path-vis/2639318'}]}, {'createdDate': '2022-03-17 22:56:30', 'modifiedDate': '2022-03-18 19:47:58', 'createdBy': 'fsolab4@gmail.com (fsolab4@gmail.com)', 'modifiedBy': 'Sherri Conrod (sconrod@cisco.com)', 'enabled': 0, 'savedEvent': 0, 'testId': 2639378, 'testName': 'agent to server-30', 'interval': 300, 'subinterval': -1, 'server': 'www.thousandeyes.com:80', 'protocol': 'TCP', 'ipv6Policy': 'USE_AGENT_POLICY', 'networkMeasurements': 1, 'mtuMeasurements': 1, 'bandwidthMeasurements': 0, 'bgpMeasurements': 0, 'usePublicBgp': 0, 'dscpId': 0, 'alertsEnabled': 0, 'liveShare': 0, 'pingPayloadSize': -1, 'probeMode': 'AUTO', 'pathTraceMode': 'classic', 'numPathTraces': 3, 'dscp': 'Best Effort (DSCP 0)', 'apiLinks': [{'rel': 'self', 'href': 'https://api.thousandeyes.com/v6/tests/2639378'}, {'rel': 'data', 'href': 'https://api.thousandeyes.com/v6/net/metrics/2639378'}, {'rel': 'data', 'href': 'https://api.thousandeyes.com/v6/net/path-vis/2639378'}]}, {'createdDate': '2022-03-16 20:50:59', 'modifiedDate': '2022-03-18 19:47:58', 'createdBy': 'fsolab4@gmail.com (fsolab4@gmail.com)', 'modifiedBy': 'Sherri Conrod (sconrod@cisco.com)', 'enabled': 0, 'savedEvent': 0, 'testId': 2637115, 'testName': 'agent_to_server', 'interval': 300, 'subinterval': -1, 'server': 'www.thousandeyes.com:80', 'protocol': 'TCP', 'ipv6Policy': 'USE_AGENT_POLICY', 'networkMeasurements': 1, 'mtuMeasurements': 1, 'bandwidthMeasurements': 0, 'bgpMeasurements': 0, 'usePublicBgp': 0, 'dscpId': 0, 'alertsEnabled': 0, 'liveShare': 0, 'pingPayloadSize': -1, 'probeMode': 'AUTO', 'pathTraceMode': 'classic', 'numPathTraces': 3, 'dscp': 'Best Effort (DSCP 0)', 'apiLinks': [{'rel': 'self', 'href': 'https://api.thousandeyes.com/v6/tests/2637115'}, {'rel': 'data', 'href': 'https://api.thousandeyes.com/v6/net/metrics/2637115'}, {'rel': 'data', 'href': 'https://api.thousandeyes.com/v6/net/path-vis/2637115'}]}, {'createdDate': '2022-04-12 19:43:15', 'modifiedDate': '2022-04-13 19:33:45', 'createdBy': 'fsolab4@gmail.com (fsolab4@gmail.com)', 'modifiedBy': 'Sherri Conrod (sconrod@cisco.com)', 'enabled': 0, 'savedEvent': 0, 'testId': 2796479, 'testName': 'test-101', 'interval': 300, 'subinterval': -1, 'server': 'www.thousandeyes.com:80', 'protocol': 'TCP', 'ipv6Policy': 'USE_AGENT_POLICY', 'networkMeasurements': 1, 'mtuMeasurements': 1, 'bandwidthMeasurements': 0, 'bgpMeasurements': 0, 'usePublicBgp': 0, 'dscpId': 0, 'alertsEnabled': 0, 'liveShare': 0, 'pingPayloadSize': -1, 'probeMode': 'AUTO', 'pathTraceMode': 'classic', 'numPathTraces': 3, 'dscp': 'Best Effort (DSCP 0)', 'apiLinks': [{'rel': 'self', 'href': 'https://api.thousandeyes.com/v6/tests/2796479'}, {'rel': 'data', 'href': 'https://api.thousandeyes.com/v6/net/metrics/2796479'}, {'rel': 'data', 'href': 'https://api.thousandeyes.com/v6/net/path-vis/2796479'}]}, {'createdDate': '2022-04-12 20:04:28', 'modifiedDate': '2022-04-13 19:33:45', 'createdBy': 'fsolab4@gmail.com (fsolab4@gmail.com)', 'modifiedBy': 'Sherri Conrod (sconrod@cisco.com)', 'enabled': 0, 'savedEvent': 0, 'testId': 2796516, 'testName': 'test-102', 'interval': 300, 'subinterval': -1, 'server': 'www.thousandeyes.com:80', 'protocol': 'TCP', 'ipv6Policy': 'USE_AGENT_POLICY', 'networkMeasurements': 1, 'mtuMeasurements': 1, 'bandwidthMeasurements': 0, 'bgpMeasurements': 0, 'usePublicBgp': 0, 'dscpId': 0, 'alertsEnabled': 0, 'liveShare': 0, 'pingPayloadSize': -1, 'probeMode': 'AUTO', 'pathTraceMode': 'classic', 'numPathTraces': 3, 'dscp': 'Best Effort (DSCP 0)', 'apiLinks': [{'rel': 'self', 'href': 'https://api.thousandeyes.com/v6/tests/2796516'}, {'rel': 'data', 'href': 'https://api.thousandeyes.com/v6/net/metrics/2796516'}, {'rel': 'data', 'href': 'https://api.thousandeyes.com/v6/net/path-vis/2796516'}]}, {'createdDate': '2022-04-12 21:00:42', 'modifiedDate': '2022-04-13 19:33:45', 'createdBy': 'fsolab4@gmail.com (fsolab4@gmail.com)', 'modifiedBy': 'Sherri Conrod (sconrod@cisco.com)', 'enabled': 0, 'savedEvent': 0, 'testId': 2796633, 'testName': 'test-103', 'interval': 300, 'subinterval': -1, 'server': 'www.thousandeyes.com:80', 'protocol': 'TCP', 'ipv6Policy': 'USE_AGENT_POLICY', 'networkMeasurements': 1, 'mtuMeasurements': 1, 'bandwidthMeasurements': 0, 'bgpMeasurements': 0, 'usePublicBgp': 0, 'dscpId': 0, 'alertsEnabled': 0, 'liveShare': 0, 'pingPayloadSize': -1, 'probeMode': 'AUTO', 'pathTraceMode': 'classic', 'numPathTraces': 3, 'dscp': 'Best Effort (DSCP 0)', 'apiLinks': [{'rel': 'self', 'href': 'https://api.thousandeyes.com/v6/tests/2796633'}, {'rel': 'data', 'href': 'https://api.thousandeyes.com/v6/net/metrics/2796633'}, {'rel': 'data', 'href': 'https://api.thousandeyes.com/v6/net/path-vis/2796633'}]}, {'createdDate': '2022-04-12 21:23:21', 'modifiedDate': '2022-04-13 19:33:45', 'createdBy': 'fsolab4@gmail.com (fsolab4@gmail.com)', 'modifiedBy': 'Sherri Conrod (sconrod@cisco.com)', 'enabled': 0, 'savedEvent': 0, 'testId': 2796666, 'testName': 'test-104', 'interval': 300, 'subinterval': -1, 'server': 'www.thousandeyes.com:80', 'protocol': 'TCP', 'ipv6Policy': 'USE_AGENT_POLICY', 'networkMeasurements': 1, 'mtuMeasurements': 1, 'bandwidthMeasurements': 0, 'bgpMeasurements': 0, 'usePublicBgp': 0, 'dscpId': 0, 'alertsEnabled': 0, 'liveShare': 0, 'pingPayloadSize': -1, 'probeMode': 'AUTO', 'pathTraceMode': 'classic', 'numPathTraces': 3, 'dscp': 'Best Effort (DSCP 0)', 'apiLinks': [{'rel': 'self', 'href': 'https://api.thousandeyes.com/v6/tests/2796666'}, {'rel': 'data', 'href': 'https://api.thousandeyes.com/v6/net/metrics/2796666'}, {'rel': 'data', 'href': 'https://api.thousandeyes.com/v6/net/path-vis/2796666'}]}, {'createdDate': '2022-06-15 21:48:09', 'createdBy': 'fsolab4@gmail.com (fsolab4@gmail.com)', 'enabled': 1, 'savedEvent': 0, 'testId': 2935079, 'testName': 'test-200', 'interval': 300, 'subinterval': -1, 'server': 'www.thousandeyes.com:80', 'protocol': 'TCP', 'ipv6Policy': 'USE_AGENT_POLICY', 'networkMeasurements': 1, 'mtuMeasurements': 1, 'bandwidthMeasurements': 0, 'bgpMeasurements': 0, 'usePublicBgp': 0, 'dscpId': 0, 'alertsEnabled': 0, 'liveShare': 0, 'pingPayloadSize': -1, 'probeMode': 'AUTO', 'pathTraceMode': 'classic', 'numPathTraces': 3, 'dscp': 'Best Effort (DSCP 0)', 'apiLinks': [{'rel': 'self', 'href': 'https://api.thousandeyes.com/v6/tests/2935079'}, {'rel': 'data', 'href': 'https://api.thousandeyes.com/v6/net/metrics/2935079'}, {'rel': 'data', 'href': 'https://api.thousandeyes.com/v6/net/path-vis/2935079'}]}, {'createdDate': '2022-03-21 18:27:28', 'modifiedDate': '2022-03-23 21:16:47', 'createdBy': 'fsolab4@gmail.com (fsolab4@gmail.com)', 'modifiedBy': 'Sherri Conrod (sconrod@cisco.com)', 'enabled': 0, 'savedEvent': 0, 'testId': 2644079, 'testName': 'test-33', 'interval': 300, 'subinterval': -1, 'server': 'www.thousandeyes.com:80', 'protocol': 'TCP', 'ipv6Policy': 'USE_AGENT_POLICY', 'networkMeasurements': 1, 'mtuMeasurements': 1, 'bandwidthMeasurements': 0, 'bgpMeasurements': 0, 'usePublicBgp': 0, 'dscpId': 0, 'alertsEnabled': 0, 'liveShare': 0, 'pingPayloadSize': -1, 'probeMode': 'AUTO', 'pathTraceMode': 'classic', 'numPathTraces': 3, 'dscp': 'Best Effort (DSCP 0)', 'apiLinks': [{'rel': 'self', 'href': 'https://api.thousandeyes.com/v6/tests/2644079'}, {'rel': 'data', 'href': 'https://api.thousandeyes.com/v6/net/metrics/2644079'}, {'rel': 'data', 'href': 'https://api.thousandeyes.com/v6/net/path-vis/2644079'}]}, {'createdDate': '2022-03-23 21:50:27', 'modifiedDate': '2022-03-30 18:08:01', 'createdBy': 'fsolab4@gmail.com (fsolab4@gmail.com)', 'modifiedBy': 'Sherri Conrod (sconrod@cisco.com)', 'enabled': 0, 'savedEvent': 0, 'testId': 2649863, 'testName': 'test-60', 'interval': 300, 'subinterval': -1, 'server': 'www.thousandeyes.com:80', 'protocol': 'TCP', 'ipv6Policy': 'USE_AGENT_POLICY', 'networkMeasurements': 1, 'mtuMeasurements': 1, 'bandwidthMeasurements': 0, 'bgpMeasurements': 0, 'usePublicBgp': 0, 'dscpId': 0, 'alertsEnabled': 0, 'liveShare': 0, 'pingPayloadSize': -1, 'probeMode': 'AUTO', 'pathTraceMode': 'classic', 'numPathTraces': 3, 'dscp': 'Best Effort (DSCP 0)', 'apiLinks': [{'rel': 'self', 'href': 'https://api.thousandeyes.com/v6/tests/2649863'}, {'rel': 'data', 'href': 'https://api.thousandeyes.com/v6/net/metrics/2649863'}, {'rel': 'data', 'href': 'https://api.thousandeyes.com/v6/net/path-vis/2649863'}]}, {'createdDate': '2022-04-12 19:59:02', 'modifiedDate': '2022-04-13 19:33:45', 'createdBy': 'fsolab4@gmail.com (fsolab4@gmail.com)', 'modifiedBy': 'Sherri Conrod (sconrod@cisco.com)', 'enabled': 0, 'savedEvent': 0, 'testId': 2796504, 'testName': 'test=60', 'interval': 300, 'subinterval': -1, 'server': 'www.thousandeyes.com:80', 'protocol': 'TCP', 'ipv6Policy': 'USE_AGENT_POLICY', 'networkMeasurements': 1, 'mtuMeasurements': 1, 'bandwidthMeasurements': 0, 'bgpMeasurements': 0, 'usePublicBgp': 0, 'dscpId': 0, 'alertsEnabled': 0, 'liveShare': 0, 'pingPayloadSize': -1, 'probeMode': 'AUTO', 'pathTraceMode': 'classic', 'numPathTraces': 3, 'dscp': 'Best Effort (DSCP 0)', 'apiLinks': [{'rel': 'self', 'href': 'https://api.thousandeyes.com/v6/tests/2796504'}, {'rel': 'data', 'href': 'https://api.thousandeyes.com/v6/net/metrics/2796504'}, {'rel': 'data', 'href': 'https://api.thousandeyes.com/v6/net/path-vis/2796504'}]}, {'createdDate': '2022-03-17 23:02:31', 'modifiedDate': '2022-03-18 19:47:58', 'createdBy': 'fsolab4@gmail.com (fsolab4@gmail.com)', 'modifiedBy': 'Sherri Conrod (sconrod@cisco.com)', 'enabled': 0, 'savedEvent': 0, 'testId': 2639399, 'testName': 'test_31', 'interval': 300, 'subinterval': -1, 'server': 'www.thousandeyes.com:80', 'protocol': 'TCP', 'ipv6Policy': 'USE_AGENT_POLICY', 'networkMeasurements': 1, 'mtuMeasurements': 1, 'bandwidthMeasurements': 0, 'bgpMeasurements': 0, 'usePublicBgp': 0, 'dscpId': 0, 'alertsEnabled': 0, 'liveShare': 0, 'pingPayloadSize': -1, 'probeMode': 'AUTO', 'pathTraceMode': 'classic', 'numPathTraces': 3, 'dscp': 'Best Effort (DSCP 0)', 'apiLinks': [{'rel': 'self', 'href': 'https://api.thousandeyes.com/v6/tests/2639399'}, {'rel': 'data', 'href': 'https://api.thousandeyes.com/v6/net/metrics/2639399'}, {'rel': 'data', 'href': 'https://api.thousandeyes.com/v6/net/path-vis/2639399'}]}, {'createdDate': '2022-03-18 21:55:16', 'modifiedDate': '2022-03-21 18:05:11', 'createdBy': 'fsolab4@gmail.com (fsolab4@gmail.com)', 'modifiedBy': 'Sherri Conrod (sconrod@cisco.com)', 'enabled': 0, 'savedEvent': 0, 'testId': 2641081, 'testName': 'test_32', 'interval': 300, 'subinterval': -1, 'server': 'www.thousandeyes.com:80', 'protocol': 'TCP', 'ipv6Policy': 'USE_AGENT_POLICY', 'networkMeasurements': 1, 'mtuMeasurements': 1, 'bandwidthMeasurements': 0, 'bgpMeasurements': 0, 'usePublicBgp': 0, 'dscpId': 0, 'alertsEnabled': 0, 'liveShare': 0, 'pingPayloadSize': -1, 'probeMode': 'AUTO', 'pathTraceMode': 'classic', 'numPathTraces': 3, 'dscp': 'Best Effort (DSCP 0)', 'apiLinks': [{'rel': 'self', 'href': 'https://api.thousandeyes.com/v6/tests/2641081'}, {'rel': 'data', 'href': 'https://api.thousandeyes.com/v6/net/metrics/2641081'}, {'rel': 'data', 'href': 'https://api.thousandeyes.com/v6/net/path-vis/2641081'}]}, {'createdDate': '2022-03-19 20:20:45', 'modifiedDate': '2022-03-21 18:05:11', 'createdBy': 'fsolab4@gmail.com (fsolab4@gmail.com)', 'modifiedBy': 'Sherri Conrod (sconrod@cisco.com)', 'enabled': 0, 'savedEvent': 0, 'testId': 2641672, 'testName': 'test_xentaurs_1', 'interval': 300, 'subinterval': -1, 'server': 'www.thousandeyes.com:80', 'protocol': 'TCP', 'ipv6Policy': 'USE_AGENT_POLICY', 'networkMeasurements': 1, 'mtuMeasurements': 1, 'bandwidthMeasurements': 0, 'bgpMeasurements': 0, 'usePublicBgp': 0, 'dscpId': 0, 'alertsEnabled': 0, 'liveShare': 0, 'pingPayloadSize': -1, 'probeMode': 'AUTO', 'pathTraceMode': 'classic', 'numPathTraces': 3, 'dscp': 'Best Effort (DSCP 0)', 'apiLinks': [{'rel': 'self', 'href': 'https://api.thousandeyes.com/v6/tests/2641672'}, {'rel': 'data', 'href': 'https://api.thousandeyes.com/v6/net/metrics/2641672'}, {'rel': 'data', 'href': 'https://api.thousandeyes.com/v6/net/path-vis/2641672'}]}, {'createdDate': '2022-03-19 20:15:50', 'modifiedDate': '2022-03-21 18:05:11', 'createdBy': 'fsolab4@gmail.com (fsolab4@gmail.com)', 'modifiedBy': 'Sherri Conrod (sconrod@cisco.com)', 'enabled': 0, 'savedEvent': 0, 'testId': 2641669, 'testName': 'test_xentaurs_2', 'interval': 300, 'subinterval': -1, 'server': 'www.thousandeyes.com:80', 'protocol': 'TCP', 'ipv6Policy': 'USE_AGENT_POLICY', 'networkMeasurements': 1, 'mtuMeasurements': 1, 'bandwidthMeasurements': 0, 'bgpMeasurements': 0, 'usePublicBgp': 0, 'dscpId': 0, 'alertsEnabled': 0, 'liveShare': 0, 'pingPayloadSize': -1, 'probeMode': 'AUTO', 'pathTraceMode': 'classic', 'numPathTraces': 3, 'dscp': 'Best Effort (DSCP 0)', 'apiLinks': [{'rel': 'self', 'href': 'https://api.thousandeyes.com/v6/tests/2641669'}, {'rel': 'data', 'href': 'https://api.thousandeyes.com/v6/net/metrics/2641669'}, {'rel': 'data', 'href': 'https://api.thousandeyes.com/v6/net/path-vis/2641669'}]}, {'createdDate': '2022-03-19 20:55:57', 'modifiedDate': '2022-03-21 18:05:11', 'createdBy': 'fsolab4@gmail.com (fsolab4@gmail.com)', 'modifiedBy': 'Sherri Conrod (sconrod@cisco.com)', 'enabled': 0, 'savedEvent': 0, 'testId': 2641681, 'testName': 'test_xentaurs_3', 'interval': 300, 'subinterval': -1, 'server': 'www.thousandeyes.com:80', 'protocol': 'TCP', 'ipv6Policy': 'USE_AGENT_POLICY', 'networkMeasurements': 1, 'mtuMeasurements': 1, 'bandwidthMeasurements': 0, 'bgpMeasurements': 0, 'usePublicBgp': 0, 'dscpId': 0, 'alertsEnabled': 0, 'liveShare': 0, 'pingPayloadSize': -1, 'probeMode': 'AUTO', 'pathTraceMode': 'classic', 'numPathTraces': 3, 'dscp': 'Best Effort (DSCP 0)', 'apiLinks': [{'rel': 'self', 'href': 'https://api.thousandeyes.com/v6/tests/2641681'}, {'rel': 'data', 'href': 'https://api.thousandeyes.com/v6/net/metrics/2641681'}, {'rel': 'data', 'href': 'https://api.thousandeyes.com/v6/net/path-vis/2641681'}]}, {'createdDate': '2022-03-19 21:01:13', 'modifiedDate': '2022-03-21 18:05:11', 'createdBy': 'fsolab4@gmail.com (fsolab4@gmail.com)', 'modifiedBy': 'Sherri Conrod (sconrod@cisco.com)', 'enabled': 0, 'savedEvent': 0, 'testId': 2641683, 'testName': 'test_xentaurs_5', 'interval': 300, 'subinterval': -1, 'server': 'www.thousandeyes.com:80', 'protocol': 'TCP', 'ipv6Policy': 'USE_AGENT_POLICY', 'networkMeasurements': 1, 'mtuMeasurements': 1, 'bandwidthMeasurements': 0, 'bgpMeasurements': 0, 'usePublicBgp': 0, 'dscpId': 0, 'alertsEnabled': 0, 'liveShare': 0, 'pingPayloadSize': -1, 'probeMode': 'AUTO', 'pathTraceMode': 'classic', 'numPathTraces': 3, 'dscp': 'Best Effort (DSCP 0)', 'apiLinks': [{'rel': 'self', 'href': 'https://api.thousandeyes.com/v6/tests/2641683'}, {'rel': 'data', 'href': 'https://api.thousandeyes.com/v6/net/metrics/2641683'}, {'rel': 'data', 'href': 'https://api.thousandeyes.com/v6/net/path-vis/2641683'}]}, {'createdDate': '2022-04-13 20:20:09', 'modifiedDate': '2022-04-21 14:31:10', 'createdBy': 'fsolab4@gmail.com (fsolab4@gmail.com)', 'modifiedBy': 'Sherri Conrod (sconrod@cisco.com)', 'enabled': 0, 'savedEvent': 0, 'testId': 2799118, 'testName': 'us-east-2a-1', 'interval': 300, 'subinterval': -1, 'server': 'www.thousandeyes.com:80', 'protocol': 'TCP', 'ipv6Policy': 'USE_AGENT_POLICY', 'networkMeasurements': 1, 'mtuMeasurements': 1, 'bandwidthMeasurements': 0, 'bgpMeasurements': 0, 'usePublicBgp': 0, 'dscpId': 0, 'alertsEnabled': 0, 'liveShare': 0, 'pingPayloadSize': -1, 'probeMode': 'AUTO', 'pathTraceMode': 'classic', 'numPathTraces': 3, 'dscp': 'Best Effort (DSCP 0)', 'apiLinks': [{'rel': 'self', 'href': 'https://api.thousandeyes.com/v6/tests/2799118'}, {'rel': 'data', 'href': 'https://api.thousandeyes.com/v6/net/metrics/2799118'}, {'rel': 'data', 'href': 'https://api.thousandeyes.com/v6/net/path-vis/2799118'}]}, {'createdDate': '2022-03-19 21:02:09', 'modifiedDate': '2022-03-21 18:05:11', 'createdBy': 'fsolab4@gmail.com (fsolab4@gmail.com)', 'modifiedBy': 'Sherri Conrod (sconrod@cisco.com)', 'enabled': 0, 'savedEvent': 0, 'testId': 2641685, 'testName': 'xentaurs_test_1', 'interval': 300, 'subinterval': -1, 'server': 'www.thousandeyes.com:80', 'protocol': 'TCP', 'ipv6Policy': 'USE_AGENT_POLICY', 'networkMeasurements': 1, 'mtuMeasurements': 1, 'bandwidthMeasurements': 0, 'bgpMeasurements': 0, 'usePublicBgp': 0, 'dscpId': 0, 'alertsEnabled': 0, 'liveShare': 0, 'pingPayloadSize': -1, 'probeMode': 'AUTO', 'pathTraceMode': 'classic', 'numPathTraces': 3, 'dscp': 'Best Effort (DSCP 0)', 'apiLinks': [{'rel': 'self', 'href': 'https://api.thousandeyes.com/v6/tests/2641685'}, {'rel': 'data', 'href': 'https://api.thousandeyes.com/v6/net/metrics/2641685'}, {'rel': 'data', 'href': 'https://api.thousandeyes.com/v6/net/path-vis/2641685'}]}, {'createdDate': '2022-03-19 21:02:10', 'modifiedDate': '2022-03-21 18:05:11', 'createdBy': 'fsolab4@gmail.com (fsolab4@gmail.com)', 'modifiedBy': 'Sherri Conrod (sconrod@cisco.com)', 'enabled': 0, 'savedEvent': 0, 'testId': 2641686, 'testName': 'xentaurs_test_2', 'interval': 300, 'subinterval': -1, 'server': 'www.thousandeyes.com:80', 'protocol': 'TCP', 'ipv6Policy': 'USE_AGENT_POLICY', 'networkMeasurements': 1, 'mtuMeasurements': 1, 'bandwidthMeasurements': 0, 'bgpMeasurements': 0, 'usePublicBgp': 0, 'dscpId': 0, 'alertsEnabled': 0, 'liveShare': 0, 'pingPayloadSize': -1, 'probeMode': 'AUTO', 'pathTraceMode': 'classic', 'numPathTraces': 3, 'dscp': 'Best Effort (DSCP 0)', 'apiLinks': [{'rel': 'self', 'href': 'https://api.thousandeyes.com/v6/tests/2641686'}, {'rel': 'data', 'href': 'https://api.thousandeyes.com/v6/net/metrics/2641686'}, {'rel': 'data', 'href': 'https://api.thousandeyes.com/v6/net/path-vis/2641686'}]}, {'createdDate': '2022-03-19 21:05:35', 'modifiedDate': '2022-03-21 18:05:11', 'createdBy': 'fsolab4@gmail.com (fsolab4@gmail.com)', 'modifiedBy': 'Sherri Conrod (sconrod@cisco.com)', 'enabled': 0, 'savedEvent': 0, 'testId': 2641688, 'testName': 'xentaurs_test_3', 'interval': 300, 'subinterval': -1, 'server': 'www.thousandeyes.com:80', 'protocol': 'TCP', 'ipv6Policy': 'USE_AGENT_POLICY', 'networkMeasurements': 1, 'mtuMeasurements': 1, 'bandwidthMeasurements': 0, 'bgpMeasurements': 0, 'usePublicBgp': 0, 'dscpId': 0, 'alertsEnabled': 0, 'liveShare': 0, 'pingPayloadSize': -1, 'probeMode': 'AUTO', 'pathTraceMode': 'classic', 'numPathTraces': 3, 'dscp': 'Best Effort (DSCP 0)', 'apiLinks': [{'rel': 'self', 'href': 'https://api.thousandeyes.com/v6/tests/2641688'}, {'rel': 'data', 'href': 'https://api.thousandeyes.com/v6/net/metrics/2641688'}, {'rel': 'data', 'href': 'https://api.thousandeyes.com/v6/net/path-vis/2641688'}]}, {'createdDate': '2022-03-19 21:05:36', 'modifiedDate': '2022-03-21 18:05:11', 'createdBy': 'fsolab4@gmail.com (fsolab4@gmail.com)', 'modifiedBy': 'Sherri Conrod (sconrod@cisco.com)', 'enabled': 0, 'savedEvent': 0, 'testId': 2641689, 'testName': 'xentaurs_test_4', 'interval': 300, 'subinterval': -1, 'server': 'www.thousandeyes.com:80', 'protocol': 'TCP', 'ipv6Policy': 'USE_AGENT_POLICY', 'networkMeasurements': 1, 'mtuMeasurements': 1, 'bandwidthMeasurements': 0, 'bgpMeasurements': 0, 'usePublicBgp': 0, 'dscpId': 0, 'alertsEnabled': 0, 'liveShare': 0, 'pingPayloadSize': -1, 'probeMode': 'AUTO', 'pathTraceMode': 'classic', 'numPathTraces': 3, 'dscp': 'Best Effort (DSCP 0)', 'apiLinks': [{'rel': 'self', 'href': 'https://api.thousandeyes.com/v6/tests/2641689'}, {'rel': 'data', 'href': 'https://api.thousandeyes.com/v6/net/metrics/2641689'}, {'rel': 'data', 'href': 'https://api.thousandeyes.com/v6/net/path-vis/2641689'}]}, {'createdDate': '2022-03-19 21:08:53', 'modifiedDate': '2022-03-21 18:05:11', 'createdBy': 'fsolab4@gmail.com (fsolab4@gmail.com)', 'modifiedBy': 'Sherri Conrod (sconrod@cisco.com)', 'enabled': 0, 'savedEvent': 0, 'testId': 2641693, 'testName': 'xentaurs_test_5', 'interval': 300, 'subinterval': -1, 'server': 'www.thousandeyes.com:80', 'protocol': 'TCP', 'ipv6Policy': 'USE_AGENT_POLICY', 'networkMeasurements': 1, 'mtuMeasurements': 1, 'bandwidthMeasurements': 0, 'bgpMeasurements': 0, 'usePublicBgp': 0, 'dscpId': 0, 'alertsEnabled': 0, 'liveShare': 0, 'pingPayloadSize': -1, 'probeMode': 'AUTO', 'pathTraceMode': 'classic', 'numPathTraces': 3, 'dscp': 'Best Effort (DSCP 0)', 'apiLinks': [{'rel': 'self', 'href': 'https://api.thousandeyes.com/v6/tests/2641693'}, {'rel': 'data', 'href': 'https://api.thousandeyes.com/v6/net/metrics/2641693'}, {'rel': 'data', 'href': 'https://api.thousandeyes.com/v6/net/path-vis/2641693'}]}, {'createdDate': '2022-03-19 21:08:54', 'modifiedDate': '2022-03-21 18:05:11', 'createdBy': 'fsolab4@gmail.com (fsolab4@gmail.com)', 'modifiedBy': 'Sherri Conrod (sconrod@cisco.com)', 'enabled': 0, 'savedEvent': 0, 'testId': 2641694, 'testName': 'xentaurs_test_6', 'interval': 300, 'subinterval': -1, 'server': 'www.thousandeyes.com:80', 'protocol': 'TCP', 'ipv6Policy': 'USE_AGENT_POLICY', 'networkMeasurements': 1, 'mtuMeasurements': 1, 'bandwidthMeasurements': 0, 'bgpMeasurements': 0, 'usePublicBgp': 0, 'dscpId': 0, 'alertsEnabled': 0, 'liveShare': 0, 'pingPayloadSize': -1, 'probeMode': 'AUTO', 'pathTraceMode': 'classic', 'numPathTraces': 3, 'dscp': 'Best Effort (DSCP 0)', 'apiLinks': [{'rel': 'self', 'href': 'https://api.thousandeyes.com/v6/tests/2641694'}, {'rel': 'data', 'href': 'https://api.thousandeyes.com/v6/net/metrics/2641694'}, {'rel': 'data', 'href': 'https://api.thousandeyes.com/v6/net/path-vis/2641694'}]}]}\n"
     ]
    }
   ],
   "source": [
    "#!/usr/bin/env python\n",
    "import json, re, sys, os, json, subprocess, time, logging, requests, urllib3\n",
    "from subprocess import call, check_output\n",
    "from requests.structures import CaseInsensitiveDict\n",
    "urllib3.disable_warnings()\n",
    "#token = os.getenv('TE_OATHTOKEN')\n",
    "token='1d0acd78-a470-44ad-a6d6-0892ac2db441'\n",
    "print(token)\n",
    "url = \"https://api.thousandeyes.com/v6/tests/agent-to-server.json\"\n",
    "payload={}\n",
    "headers = {'Authorization': 'Bearer ' + token}\n",
    "agent_response = requests.request(\"GET\", url, headers=headers, data=payload)\n",
    "\n",
    "json = agent_response.json()\n",
    "print(json)\n",
    "\n",
    "\n",
    "\n"
   ]
  },
  {
   "cell_type": "code",
   "execution_count": 20,
   "id": "1577d691",
   "metadata": {},
   "outputs": [
    {
     "name": "stdout",
     "output_type": "stream",
     "text": [
      "{'net': {'test': {'createdDate': '2022-03-17 01:28:40', 'modifiedDate': '2022-03-18 19:47:58', 'createdBy': 'fsolab4@gmail.com (fsolab4@gmail.com)', 'modifiedBy': 'Sherri Conrod (sconrod@cisco.com)', 'enabled': 0, 'savedEvent': 0, 'testId': 2637465, 'testName': 'agent to server-24', 'type': 'agent-to-server', 'interval': 300, 'subinterval': -1, 'server': 'www.thousandeyes.com:80', 'protocol': 'TCP', 'ipv6Policy': 'USE_AGENT_POLICY', 'networkMeasurements': 1, 'mtuMeasurements': 1, 'bandwidthMeasurements': 0, 'bgpMeasurements': 0, 'usePublicBgp': 0, 'dscpId': 0, 'alertsEnabled': 0, 'liveShare': 0, 'pingPayloadSize': -1, 'probeMode': 'AUTO', 'pathTraceMode': 'classic', 'numPathTraces': 3, 'dscp': 'Best Effort (DSCP 0)', 'apiLinks': [{'rel': 'self', 'href': 'https://api.thousandeyes.com/v6/tests/2637465'}, {'rel': 'data', 'href': 'https://api.thousandeyes.com/v6/net/metrics/2637465'}, {'rel': 'data', 'href': 'https://api.thousandeyes.com/v6/net/path-vis/2637465'}]}}, 'pages': {'current': 1}}\n",
      "<class 'dict'>\n"
     ]
    }
   ],
   "source": [
    "#Now get one test ID and then query the stats for it using the /net/metrics/2637465.json\n",
    "\n",
    "url = \"https://api.thousandeyes.com/v6/net/metrics/2637465.json\"\n",
    "payload={}\n",
    "headers = {'Authorization': 'Bearer ' + token}\n",
    "response = requests.request(\"GET\", url, headers=headers, data=payload)\n",
    "\n",
    "json = response.json()\n",
    "print(json)\n",
    "print(type(json))\n",
    "\n"
   ]
  },
  {
   "cell_type": "code",
   "execution_count": 21,
   "id": "04adf2b9",
   "metadata": {},
   "outputs": [
    {
     "name": "stdout",
     "output_type": "stream",
     "text": [
      "{'test': {'createdDate': '2022-03-17 01:28:40', 'modifiedDate': '2022-03-18 19:47:58', 'createdBy': 'fsolab4@gmail.com (fsolab4@gmail.com)', 'modifiedBy': 'Sherri Conrod (sconrod@cisco.com)', 'enabled': 0, 'savedEvent': 0, 'testId': 2637465, 'testName': 'agent to server-24', 'type': 'agent-to-server', 'interval': 300, 'subinterval': -1, 'server': 'www.thousandeyes.com:80', 'protocol': 'TCP', 'ipv6Policy': 'USE_AGENT_POLICY', 'networkMeasurements': 1, 'mtuMeasurements': 1, 'bandwidthMeasurements': 0, 'bgpMeasurements': 0, 'usePublicBgp': 0, 'dscpId': 0, 'alertsEnabled': 0, 'liveShare': 0, 'pingPayloadSize': -1, 'probeMode': 'AUTO', 'pathTraceMode': 'classic', 'numPathTraces': 3, 'dscp': 'Best Effort (DSCP 0)', 'apiLinks': [{'rel': 'self', 'href': 'https://api.thousandeyes.com/v6/tests/2637465'}, {'rel': 'data', 'href': 'https://api.thousandeyes.com/v6/net/metrics/2637465'}, {'rel': 'data', 'href': 'https://api.thousandeyes.com/v6/net/path-vis/2637465'}]}}\n"
     ]
    }
   ],
   "source": [
    "question_access=json['net']\n",
    "print(question_access)"
   ]
  },
  {
   "cell_type": "code",
   "execution_count": 32,
   "id": "07a7c56b",
   "metadata": {},
   "outputs": [
    {
     "name": "stdout",
     "output_type": "stream",
     "text": [
      "2022-03-17 01:28:40\n"
     ]
    }
   ],
   "source": [
    "question_data=question_access['test']\n",
    "print(question_data['createdDate'])"
   ]
  },
  {
   "cell_type": "code",
   "execution_count": null,
   "id": "dac62447",
   "metadata": {},
   "outputs": [],
   "source": []
  },
  {
   "cell_type": "code",
   "execution_count": null,
   "id": "921ae4a6",
   "metadata": {},
   "outputs": [],
   "source": []
  },
  {
   "cell_type": "code",
   "execution_count": null,
   "id": "b039e9dd",
   "metadata": {},
   "outputs": [],
   "source": []
  }
 ],
 "metadata": {
  "kernelspec": {
   "display_name": "Python 3 (ipykernel)",
   "language": "python",
   "name": "python3"
  },
  "language_info": {
   "codemirror_mode": {
    "name": "ipython",
    "version": 3
   },
   "file_extension": ".py",
   "mimetype": "text/x-python",
   "name": "python",
   "nbconvert_exporter": "python",
   "pygments_lexer": "ipython3",
   "version": "3.10.0"
  }
 },
 "nbformat": 4,
 "nbformat_minor": 5
}
