{
 "cells": [
  {
   "cell_type": "code",
   "execution_count": 2,
   "id": "2b90edb2",
   "metadata": {},
   "outputs": [
    {
     "name": "stdout",
     "output_type": "stream",
     "text": [
      "eyJraWQiOiJiN2UzOTg1OS1iOTE0LTRiNzItYjU3NS0wNDExYTQ2NTU4YzUiLCJhbGciOiJSUzUxMiJ9.eyJpc3MiOiJBcHBEeW5hbWljcyIsImF1ZCI6IkFwcERfQVBJcyIsImp0aSI6IkFtUUgxakJERldrdlZnTmpuaElDakEiLCJzdWIiOiJmc29sYWI0IiwiaWRUeXBlIjoiQVBJX0NMSUVOVCIsImlkIjoiY2NlNmI5Y2YtMWU4NC00MTI1LWI4MWYtMDhiMDU5MTEwNTE5IiwiYWNjdElkIjoiNDEzMTk1MmItNmNhOC00NWUyLWFiYmQtNTcyMGYxZmQ2YjhjIiwidG50SWQiOiI0MTMxOTUyYi02Y2E4LTQ1ZTItYWJiZC01NzIwZjFmZDZiOGMiLCJhY2N0TmFtZSI6ImNpc2NvLWFwaXBhcnRuZXJ0cmFpbmluZ2xhYiIsInRlbmFudE5hbWUiOiJjaXNjby1hcGlwYXJ0bmVydHJhaW5pbmdsYWIiLCJmbW1UbnRJZCI6bnVsbCwiYWNjdFBlcm0iOltdLCJyb2xlSWRzIjpbXSwiaWF0IjoxNjUwNTgzMzQ2LCJuYmYiOjE2NTA1ODMyMjYsImV4cCI6MTY1MDY2OTc0NiwidG9rZW5UeXBlIjoiQUNDRVNTIn0.aN-3HNhgjbM6Nw7k47TzyDsskw7D30fBirT-C_PssQ4lp8g9q53mJ9qIhSVnKRi3OybFtF_f4ov5xJPk37J3UN2uNXTkA1qd3l9sMvrnP-gfmqBRrlh8diUxv2w9G4Q_kzySVUYfeNvVViZ6k4WTb-3JfCKvBe_dzsmgdFxwT6uMEZBDl6z8Dz4tR_zq1rdRHYS-doFmC7vx-nVmUgAyNDD9Ro6OFOBmtcAeYYU6F1fqxEQB5PKhAeW_sx4wGBdpJdXM0Z-pwpkfpWVCJUhx22bKqsecU_q7qIutOR7KG2bLbtXkurvKSAQ9UUlwNVqBmWzPIm6jOhXabHINXdNtgA0bX55GODNGCti2TorqNQEKTzHKbkrhg5eJpSehX_Az9a4GMGydiwx5aR_mfLiqNWu_ZTxM9FhqbGOxqKGf6-SvG_Sl2mMGZ2TYyD4GV7waPxhHaevGqZpjab0ZML7wVoIj5RmSQLK81GHQVDG9YNVXwCSWTZ2AUjkZUGDn6JZw\n"
     ]
    }
   ],
   "source": [
    "#!/usr/bin/env python\n",
    "import json, re, sys, os, json, subprocess, time, logging, requests, urllib3\n",
    "from subprocess import call, check_output\n",
    "from requests.structures import CaseInsensitiveDict\n",
    "urllib3.disable_warnings()\n",
    "\n",
    "#import the env vars and logon to vault to get the secret and then use it to run this command and write the output to the vault\n",
    "#APPD_OATH_TOKEN = os.getenv('APPD_OATH_TOKEN')\n",
    "APPD_OATH_TOKEN='eyJraWQiOiJiN2UzOTg1OS1iOTE0LTRiNzItYjU3NS0wNDExYTQ2NTU4YzUiLCJhbGciOiJSUzUxMiJ9.eyJpc3MiOiJBcHBEeW5hbWljcyIsImF1ZCI6IkFwcERfQVBJcyIsImp0aSI6IkFtUUgxakJERldrdlZnTmpuaElDakEiLCJzdWIiOiJmc29sYWI0IiwiaWRUeXBlIjoiQVBJX0NMSUVOVCIsImlkIjoiY2NlNmI5Y2YtMWU4NC00MTI1LWI4MWYtMDhiMDU5MTEwNTE5IiwiYWNjdElkIjoiNDEzMTk1MmItNmNhOC00NWUyLWFiYmQtNTcyMGYxZmQ2YjhjIiwidG50SWQiOiI0MTMxOTUyYi02Y2E4LTQ1ZTItYWJiZC01NzIwZjFmZDZiOGMiLCJhY2N0TmFtZSI6ImNpc2NvLWFwaXBhcnRuZXJ0cmFpbmluZ2xhYiIsInRlbmFudE5hbWUiOiJjaXNjby1hcGlwYXJ0bmVydHJhaW5pbmdsYWIiLCJmbW1UbnRJZCI6bnVsbCwiYWNjdFBlcm0iOltdLCJyb2xlSWRzIjpbXSwiaWF0IjoxNjUwNTgzMzQ2LCJuYmYiOjE2NTA1ODMyMjYsImV4cCI6MTY1MDY2OTc0NiwidG9rZW5UeXBlIjoiQUNDRVNTIn0.aN-3HNhgjbM6Nw7k47TzyDsskw7D30fBirT-C_PssQ4lp8g9q53mJ9qIhSVnKRi3OybFtF_f4ov5xJPk37J3UN2uNXTkA1qd3l9sMvrnP-gfmqBRrlh8diUxv2w9G4Q_kzySVUYfeNvVViZ6k4WTb-3JfCKvBe_dzsmgdFxwT6uMEZBDl6z8Dz4tR_zq1rdRHYS-doFmC7vx-nVmUgAyNDD9Ro6OFOBmtcAeYYU6F1fqxEQB5PKhAeW_sx4wGBdpJdXM0Z-pwpkfpWVCJUhx22bKqsecU_q7qIutOR7KG2bLbtXkurvKSAQ9UUlwNVqBmWzPIm6jOhXabHINXdNtgA0bX55GODNGCti2TorqNQEKTzHKbkrhg5eJpSehX_Az9a4GMGydiwx5aR_mfLiqNWu_ZTxM9FhqbGOxqKGf6-SvG_Sl2mMGZ2TYyD4GV7waPxhHaevGqZpjab0ZML7wVoIj5RmSQLK81GHQVDG9YNVXwCSWTZ2AUjkZUGDn6JZw'\n",
    "print(APPD_OATH_TOKEN)\n",
    "STR_APPD_OATH_TOKEN=str(APPD_OATH_TOKEN)\n",
    "\n",
    "#get the appd oath bearer token from the vault\n",
    "#May run into a problem if everyone is usin the secret from the same account - fsolab4 and resetting the token every time.\n",
    "#Ensure to set up pipeline or task so that for each branch - it will write to that branch example concourse/cisco-fso-labs/us-east-2a-appd secret=\n",
    "\n",
    "#import from the env var or call the vault command using subprocess - lots of ways to skin this cat.\n",
    "#has to logon to vault first.\n",
    "\n",
    "url=\"https://cisco-apipartnertraininglab.saas.appdynamics.com/zero/v1beta/install/agentVersions?latest=true\"\n",
    "\n",
    "\n",
    "payload={}\n",
    "headers = {\n",
    "    'Content-Type': 'application/x-www-form-urlencoded',\n",
    "    'Authorization': 'Bearer ' + STR_APPD_OATH_TOKEN\n",
    "}\n",
    "\n",
    "response = requests.request(\"GET\", url, headers=headers, data=payload)\n",
    "\n",
    "#print(response.text)\n",
    "#print(response.json)\n",
    "\n",
    "\n",
    "\n",
    "\n"
   ]
  },
  {
   "cell_type": "code",
   "execution_count": null,
   "id": "7602b3ef",
   "metadata": {},
   "outputs": [],
   "source": []
  }
 ],
 "metadata": {
  "kernelspec": {
   "display_name": "Python 3 (ipykernel)",
   "language": "python",
   "name": "python3"
  },
  "language_info": {
   "codemirror_mode": {
    "name": "ipython",
    "version": 3
   },
   "file_extension": ".py",
   "mimetype": "text/x-python",
   "name": "python",
   "nbconvert_exporter": "python",
   "pygments_lexer": "ipython3",
   "version": "3.10.0"
  }
 },
 "nbformat": 4,
 "nbformat_minor": 5
}
