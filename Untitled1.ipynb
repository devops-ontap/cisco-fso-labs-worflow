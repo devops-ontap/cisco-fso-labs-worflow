{
 "cells": [
  {
   "cell_type": "code",
   "execution_count": 3,
   "id": "c5750d41",
   "metadata": {},
   "outputs": [
    {
     "name": "stdout",
     "output_type": "stream",
     "text": [
      "<Response [200]>\n"
     ]
    }
   ],
   "source": [
    "#!/usr/bin/env python\n",
    "import json, re, sys, os, json, subprocess, time, logging, requests, urllib3\n",
    "from subprocess import call, check_output\n",
    "from requests.structures import CaseInsensitiveDict\n",
    "urllib3.disable_warnings()\n",
    "#token = os.getenv('TE_OATHTOKEN')\n",
    "token = '1d0acd78-a470-44ad-a6d6-0892ac2db441'\n",
    "url = \"https://api.thousandeyes.com/v6/agents.json\"\n",
    "payload={}\n",
    "headers = {'Authorization': 'Bearer ' + token}\n",
    "agent_response = requests.request(\"GET\", url, headers=headers, data=payload)\n",
    "print(agent_response)"
   ]
  },
  {
   "cell_type": "code",
   "execution_count": 10,
   "id": "89a1c0d7",
   "metadata": {},
   "outputs": [
    {
     "name": "stdout",
     "output_type": "stream",
     "text": [
      "[{'agentId': 598916, 'agentName': 'ip-10-10-10-55', 'agentType': 'Enterprise', 'countryId': 'US', 'enabled': 1, 'keepBrowserCache': 0, 'verifySslCertificates': 1, 'ipAddresses': ['10.10.10.55'], 'interfaceIpMapping': [{'interfaceName': 'eth0', 'ipAddresses': ['10.10.10.55']}], 'lastSeen': '2022-07-18 14:55:04', 'location': 'Columbus Area', 'network': 'Amazon.com, Inc. (AS 16509)', 'prefix': '3.144.0.0/13', 'publicIpAddresses': ['3.145.200.10'], 'targetForTests': '10.10.10.55', 'agentState': 'Online', 'utilization': 4, 'ipv6Policy': 'FORCE_IPV4', 'hostname': 'ip-10-10-10-55', 'createdDate': '2022-07-17 19:40:29', 'errorDetails': []}, {'agentId': 598926, 'agentName': 'ip-10-10-10-92', 'agentType': 'Enterprise', 'countryId': 'US', 'enabled': 1, 'keepBrowserCache': 0, 'verifySslCertificates': 1, 'ipAddresses': ['10.10.10.92'], 'interfaceIpMapping': [{'interfaceName': 'eth0', 'ipAddresses': ['10.10.10.92']}], 'lastSeen': '2022-07-18 14:53:43', 'location': 'San Jose Area', 'network': 'Amazon.com, Inc. (AS 16509)', 'prefix': '54.215.128.0/18', 'publicIpAddresses': ['54.215.136.188'], 'targetForTests': '10.10.10.92', 'agentState': 'Online', 'utilization': 4, 'ipv6Policy': 'FORCE_IPV4', 'hostname': 'ip-10-10-10-92', 'createdDate': '2022-07-17 21:05:23', 'errorDetails': []}, {'agentId': 598931, 'agentName': 'ip-10-10-10-39', 'agentType': 'Enterprise', 'countryId': 'IN', 'enabled': 1, 'keepBrowserCache': 0, 'verifySslCertificates': 1, 'ipAddresses': ['10.10.10.39'], 'interfaceIpMapping': [{'interfaceName': 'eth0', 'ipAddresses': ['10.10.10.39']}], 'lastSeen': '2022-07-18 14:52:23', 'location': 'Maharashtra, India', 'network': 'Amazon.com, Inc. (AS 16509)', 'prefix': '13.126.0.0/15', 'publicIpAddresses': ['13.126.226.65'], 'targetForTests': '10.10.10.39', 'agentState': 'Online', 'utilization': 4, 'ipv6Policy': 'FORCE_IPV4', 'hostname': 'ip-10-10-10-39', 'createdDate': '2022-07-17 21:14:19', 'errorDetails': []}, {'agentId': 598936, 'agentName': 'ip-10-10-10-107', 'agentType': 'Enterprise', 'countryId': 'IE', 'enabled': 1, 'keepBrowserCache': 0, 'verifySslCertificates': 1, 'ipAddresses': ['10.10.10.107'], 'interfaceIpMapping': [{'interfaceName': 'eth0', 'ipAddresses': ['10.10.10.107']}], 'lastSeen': '2022-07-18 14:54:52', 'location': 'Ireland', 'network': 'Amazon.com, Inc. (AS 16509)', 'prefix': '34.240.0.0/13', 'publicIpAddresses': ['34.245.79.19'], 'targetForTests': '10.10.10.107', 'agentState': 'Online', 'utilization': 4, 'ipv6Policy': 'FORCE_IPV4', 'hostname': 'ip-10-10-10-107', 'createdDate': '2022-07-17 21:39:46', 'errorDetails': []}]\n",
      "598916\n",
      "598926\n",
      "598931\n",
      "598936\n",
      "[{'agentId': 598916}, {'agentId': 598926}, {'agentId': 598931}, {'agentId': 598936}]\n"
     ]
    }
   ],
   "source": [
    "test_name = 'instructor-test'\n",
    "\n",
    "agent_list_json = agent_response.json()\n",
    "agent_list = agent_list_json['agents']\n",
    "list_of_dictionaries = agent_list\n",
    "sought_value = \"Enterprise\"\n",
    "found_values = []\n",
    "for dictionary in list_of_dictionaries:\n",
    "    if (dictionary[\"agentType\"] == \"Enterprise\"):\n",
    "        found_values.append(dictionary)\n",
    "print(found_values)\n",
    "\n",
    "empty_list=[]\n",
    "for item in found_values:\n",
    "    agentId=item['agentId']\n",
    "    print(agentId)\n",
    "    empty_list.append({'agentId': agentId})\n",
    "print(empty_list)"
   ]
  },
  {
   "cell_type": "code",
   "execution_count": 11,
   "id": "07b8340b",
   "metadata": {},
   "outputs": [
    {
     "name": "stdout",
     "output_type": "stream",
     "text": [
      "<Response [201]>\n"
     ]
    }
   ],
   "source": [
    "url='https://api.thousandeyes.com/v6/tests/agent-to-server/new.json'\n",
    "payload = {'interval': '300', 'agents': empty_list, 'testName': test_name, 'port': '80', 'server': 'www.thousandeyes.com','alertsEnabled': '0'}\n",
    "header = {'content-type': 'application/json', 'authorization': 'Bearer ' + token}\n",
    "r = requests.post(url, data=json.dumps(payload), headers=header, verify=False)\n",
    "print(r)"
   ]
  },
  {
   "cell_type": "code",
   "execution_count": null,
   "id": "80e4671b",
   "metadata": {},
   "outputs": [],
   "source": []
  }
 ],
 "metadata": {
  "kernelspec": {
   "display_name": "Python 3 (ipykernel)",
   "language": "python",
   "name": "python3"
  },
  "language_info": {
   "codemirror_mode": {
    "name": "ipython",
    "version": 3
   },
   "file_extension": ".py",
   "mimetype": "text/x-python",
   "name": "python",
   "nbconvert_exporter": "python",
   "pygments_lexer": "ipython3",
   "version": "3.10.0"
  }
 },
 "nbformat": 4,
 "nbformat_minor": 5
}
