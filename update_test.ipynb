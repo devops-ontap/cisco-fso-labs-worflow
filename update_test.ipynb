{
 "cells": [
  {
   "cell_type": "code",
   "execution_count": null,
   "id": "d2237b8b",
   "metadata": {},
   "outputs": [],
   "source": [
    "#!/usr/bin/env python\n",
    "import json, re, sys, os, json, subprocess, time, logging, requests, urllib3\n",
    "from subprocess import call, check_output\n",
    "from requests.structures import CaseInsensitiveDict\n",
    "urllib3.disable_warnings()\n",
    "#token = os.getenv('TE_OATHTOKEN')\n",
    "token='1d0acd78-a470-44ad-a6d6-0892ac2db441'\n",
    "url = \"https://api.thousandeyes.com/v6/tests.json\"\n",
    "payload={}\n",
    "headers = {'Authorization': 'Bearer ' + token}\n",
    "agent_response = requests.request(\"GET\", url, headers=headers, data=payload)\n",
    "print(agent_response)\n",
    "\n"
   ]
  },
  {
   "cell_type": "code",
   "execution_count": null,
   "id": "20387519",
   "metadata": {},
   "outputs": [],
   "source": [
    "test_list_json = agent_response.json()\n",
    "#This brings back all test types. Get just agent-to-server tests\n",
    "test_list = test_list_json['test']\n",
    "print(test_list)\n",
    "list_of_dictionaries = test_list\n",
    "sought_value = \"agent-to-server\"\n",
    "found_values = []\n",
    "for dictionary in list_of_dictionaries:\n",
    "    if (dictionary[\"type\"] == \"agent-to-server\"):\n",
    "        found_values.append(dictionary)\n",
    "print(found_values)\n",
    "\n"
   ]
  },
  {
   "cell_type": "code",
   "execution_count": null,
   "id": "46348a78",
   "metadata": {},
   "outputs": [],
   "source": [
    "test_list_json = agent_response.json()\n",
    "#This brings back all test types. Get just agent-to-server tests\n",
    "test_list = test_list_json['test']\n",
    "list_of_dictionaries = test_list\n",
    "sought_value = \"testName\"\n",
    "found_values = []\n",
    "for dictionary in list_of_dictionaries:\n",
    "    if (dictionary[\"testName\"] == \"sconrod-test\"):\n",
    "        found_values.append(dictionary)\n",
    "print(found_values)"
   ]
  },
  {
   "cell_type": "code",
   "execution_count": null,
   "id": "39c11b38",
   "metadata": {},
   "outputs": [],
   "source": [
    "empty_list=[]\n",
    "for item in found_values:\n",
    "    testId=item['testId']\n",
    "    print(testId)"
   ]
  },
  {
   "cell_type": "code",
   "execution_count": null,
   "id": "ac4cb844",
   "metadata": {},
   "outputs": [],
   "source": [
    "#Updating test to enable Bandwidth Measurements ~https://developer.thousandeyes.com/v6/tests/#/test_metadata\n",
    "#https://developer.thousandeyes.com/v6/tests/\n",
    "\n",
    "url = 'https://api.thousandeyes.com/v6/tests/agent-to-server/2994789/update'\n",
    "payload = {'bandwidthMeasurements': '1'}  \n",
    "header = {'content-type': 'application/json', 'authorization': 'Bearer ' + token}\n",
    "r = requests.post(url, data=json.dumps(payload), headers=header, verify=False)\n",
    "print(r)\n",
    "    \n"
   ]
  },
  {
   "cell_type": "code",
   "execution_count": null,
   "id": "4964416d",
   "metadata": {},
   "outputs": [],
   "source": []
  }
 ],
 "metadata": {
  "kernelspec": {
   "display_name": "Python 3 (ipykernel)",
   "language": "python",
   "name": "python3"
  },
  "language_info": {
   "codemirror_mode": {
    "name": "ipython",
    "version": 3
   },
   "file_extension": ".py",
   "mimetype": "text/x-python",
   "name": "python",
   "nbconvert_exporter": "python",
   "pygments_lexer": "ipython3",
   "version": "3.10.0"
  }
 },
 "nbformat": 4,
 "nbformat_minor": 5
}
