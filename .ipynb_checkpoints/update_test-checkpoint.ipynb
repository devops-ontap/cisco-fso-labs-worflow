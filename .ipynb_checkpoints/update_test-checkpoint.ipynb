{
 "cells": [
  {
   "cell_type": "code",
   "execution_count": 2,
   "id": "f7d034a5",
   "metadata": {},
   "outputs": [
    {
     "name": "stdout",
     "output_type": "stream",
     "text": [
      "<Response [200]>\n"
     ]
    }
   ],
   "source": [
    "#!/usr/bin/env python\n",
    "import json, re, sys, os, json, subprocess, time, logging, requests, urllib3\n",
    "from subprocess import call, check_output\n",
    "from requests.structures import CaseInsensitiveDict\n",
    "urllib3.disable_warnings()\n",
    "#token = os.getenv('TE_OATHTOKEN')\n",
    "token='1d0acd78-a470-44ad-a6d6-0892ac2db441'\n",
    "url = \"https://api.thousandeyes.com/v6/tests.json\"\n",
    "payload={}\n",
    "headers = {'Authorization': 'Bearer ' + token}\n",
    "agent_response = requests.request(\"GET\", url, headers=headers, data=payload)\n",
    "print(agent_response)\n",
    "\n"
   ]
  },
  {
   "cell_type": "code",
   "execution_count": 29,
   "id": "c3305275",
   "metadata": {},
   "outputs": [
    {
     "name": "stdout",
     "output_type": "stream",
     "text": [
      "[{'createdDate': '2022-03-16 20:50:59', 'modifiedDate': '2022-03-18 19:47:58', 'createdBy': 'fsolab4@gmail.com (fsolab4@gmail.com)', 'modifiedBy': 'Sherri Conrod (sconrod@cisco.com)', 'enabled': 0, 'savedEvent': 0, 'testId': 2637115, 'testName': 'agent_to_server', 'type': 'agent-to-server', 'interval': 300, 'subinterval': -1, 'server': 'www.thousandeyes.com:80', 'protocol': 'TCP', 'ipv6Policy': 'USE_AGENT_POLICY', 'networkMeasurements': 1, 'mtuMeasurements': 1, 'bandwidthMeasurements': 0, 'bgpMeasurements': 0, 'usePublicBgp': 0, 'dscpId': 0, 'alertsEnabled': 0, 'liveShare': 0, 'pingPayloadSize': -1, 'probeMode': 'AUTO', 'continuousMode': 0, 'pathTraceMode': 'classic', 'numPathTraces': 3, 'dscp': 'Best Effort (DSCP 0)', 'apiLinks': [{'rel': 'self', 'href': 'https://api.thousandeyes.com/v6/tests/2637115'}, {'rel': 'data', 'href': 'https://api.thousandeyes.com/v6/net/metrics/2637115'}, {'rel': 'data', 'href': 'https://api.thousandeyes.com/v6/net/path-vis/2637115'}]}, {'createdDate': '2022-07-17 22:00:41', 'modifiedDate': '2022-07-17 22:03:13', 'createdBy': 'fsolab4@gmail.com (fsolab4@gmail.com)', 'modifiedBy': 'Sherri Conrod (sconrod@cisco.com)', 'enabled': 1, 'savedEvent': 0, 'testId': 2994789, 'testName': 'sconrod-test', 'type': 'agent-to-server', 'interval': 300, 'subinterval': -1, 'server': 'www.thousandeyes.com:80', 'protocol': 'TCP', 'ipv6Policy': 'USE_AGENT_POLICY', 'networkMeasurements': 1, 'mtuMeasurements': 1, 'bandwidthMeasurements': 0, 'bgpMeasurements': 0, 'usePublicBgp': 0, 'dscpId': 0, 'alertsEnabled': 0, 'liveShare': 0, 'pingPayloadSize': -1, 'probeMode': 'AUTO', 'continuousMode': 0, 'pathTraceMode': 'classic', 'numPathTraces': 3, 'dscp': 'Best Effort (DSCP 0)', 'apiLinks': [{'rel': 'self', 'href': 'https://api.thousandeyes.com/v6/tests/2994789'}, {'rel': 'data', 'href': 'https://api.thousandeyes.com/v6/net/metrics/2994789'}, {'rel': 'data', 'href': 'https://api.thousandeyes.com/v6/net/path-vis/2994789'}]}]\n"
     ]
    }
   ],
   "source": [
    "test_list_json = agent_response.json()\n",
    "#This brings back all test types. Get just agent-to-server tests\n",
    "test_list = test_list_json['test']\n",
    "list_of_dictionaries = test_list\n",
    "sought_value = \"agent-to-server\"\n",
    "found_values = []\n",
    "for dictionary in list_of_dictionaries:\n",
    "    if (dictionary[\"type\"] == \"agent-to-server\"):\n",
    "        found_values.append(dictionary)\n",
    "print(found_values)\n",
    "\n"
   ]
  },
  {
   "cell_type": "code",
   "execution_count": 36,
   "id": "227e1eaa",
   "metadata": {},
   "outputs": [
    {
     "name": "stdout",
     "output_type": "stream",
     "text": [
      "[{'createdDate': '2022-07-17 22:00:41', 'modifiedDate': '2022-07-17 22:03:13', 'createdBy': 'fsolab4@gmail.com (fsolab4@gmail.com)', 'modifiedBy': 'Sherri Conrod (sconrod@cisco.com)', 'enabled': 1, 'savedEvent': 0, 'testId': 2994789, 'testName': 'sconrod-test', 'type': 'agent-to-server', 'interval': 300, 'subinterval': -1, 'server': 'www.thousandeyes.com:80', 'protocol': 'TCP', 'ipv6Policy': 'USE_AGENT_POLICY', 'networkMeasurements': 1, 'mtuMeasurements': 1, 'bandwidthMeasurements': 0, 'bgpMeasurements': 0, 'usePublicBgp': 0, 'dscpId': 0, 'alertsEnabled': 0, 'liveShare': 0, 'pingPayloadSize': -1, 'probeMode': 'AUTO', 'continuousMode': 0, 'pathTraceMode': 'classic', 'numPathTraces': 3, 'dscp': 'Best Effort (DSCP 0)', 'apiLinks': [{'rel': 'self', 'href': 'https://api.thousandeyes.com/v6/tests/2994789'}, {'rel': 'data', 'href': 'https://api.thousandeyes.com/v6/net/metrics/2994789'}, {'rel': 'data', 'href': 'https://api.thousandeyes.com/v6/net/path-vis/2994789'}]}]\n"
     ]
    }
   ],
   "source": [
    "test_list_json = agent_response.json()\n",
    "#This brings back all test types. Get just agent-to-server tests\n",
    "test_list = test_list_json['test']\n",
    "list_of_dictionaries = test_list\n",
    "sought_value = \"testName\"\n",
    "found_values = []\n",
    "for dictionary in list_of_dictionaries:\n",
    "    if (dictionary[\"testName\"] == \"sconrod-test\"):\n",
    "        found_values.append(dictionary)\n",
    "print(found_values)"
   ]
  },
  {
   "cell_type": "code",
   "execution_count": 37,
   "id": "1a349bfc",
   "metadata": {},
   "outputs": [
    {
     "name": "stdout",
     "output_type": "stream",
     "text": [
      "2994789\n"
     ]
    }
   ],
   "source": [
    "empty_list=[]\n",
    "for item in found_values:\n",
    "    testId=item['testId']\n",
    "    print(testId)"
   ]
  },
  {
   "cell_type": "code",
   "execution_count": 39,
   "id": "bfdccd84",
   "metadata": {},
   "outputs": [
    {
     "name": "stdout",
     "output_type": "stream",
     "text": [
      "<Response [200]>\n"
     ]
    }
   ],
   "source": [
    "#Updating test to enable Bandwidth Measurements ~https://developer.thousandeyes.com/v6/tests/#/test_metadata\n",
    "#https://developer.thousandeyes.com/v6/tests/\n",
    "\n",
    "url = 'https://api.thousandeyes.com/v6/tests/agent-to-server/2994789/update'\n",
    "payload = {'bandwidthMeasurements': '1'}  \n",
    "header = {'content-type': 'application/json', 'authorization': 'Bearer ' + token}\n",
    "r = requests.post(url, data=json.dumps(payload), headers=header, verify=False)\n",
    "print(r)\n",
    "    \n"
   ]
  },
  {
   "cell_type": "code",
   "execution_count": null,
   "id": "c755694a",
   "metadata": {},
   "outputs": [],
   "source": []
  }
 ],
 "metadata": {
  "kernelspec": {
   "display_name": "Python 3 (ipykernel)",
   "language": "python",
   "name": "python3"
  },
  "language_info": {
   "codemirror_mode": {
    "name": "ipython",
    "version": 3
   },
   "file_extension": ".py",
   "mimetype": "text/x-python",
   "name": "python",
   "nbconvert_exporter": "python",
   "pygments_lexer": "ipython3",
   "version": "3.10.0"
  }
 },
 "nbformat": 4,
 "nbformat_minor": 5
}
