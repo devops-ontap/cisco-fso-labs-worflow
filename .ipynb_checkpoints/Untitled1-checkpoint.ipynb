{
 "cells": [
  {
   "cell_type": "code",
   "execution_count": null,
   "id": "782fd9ba",
   "metadata": {},
   "outputs": [],
   "source": [
    "#!/usr/bin/env python\n",
    "import json, re, sys, os, json, subprocess, time, logging, requests, urllib3\n",
    "from subprocess import call, check_output\n",
    "from requests.structures import CaseInsensitiveDict\n",
    "urllib3.disable_warnings()\n",
    "token = os.getenv('TE_OATHTOKEN')\n",
    "url = \"https://api.thousandeyes.com/v6/agents.json\"\n",
    "payload={}\n",
    "headers = {'Authorization': 'Bearer ' + token}\n",
    "agent_response = requests.request(\"GET\", url, headers=headers, data=payload)"
   ]
  }
 ],
 "metadata": {
  "kernelspec": {
   "display_name": "Python 3 (ipykernel)",
   "language": "python",
   "name": "python3"
  }
 },
 "nbformat": 4,
 "nbformat_minor": 5
}
